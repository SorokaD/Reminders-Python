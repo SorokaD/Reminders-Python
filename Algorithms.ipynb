{
 "cells": [
  {
   "cell_type": "markdown",
   "id": "72eabb72",
   "metadata": {},
   "source": [
    "### Линейный/последовательный поиск O(N)"
   ]
  },
  {
   "cell_type": "code",
   "execution_count": 5,
   "id": "f29c181f",
   "metadata": {},
   "outputs": [
    {
     "data": {
      "text/plain": [
       "False"
      ]
     },
     "execution_count": 5,
     "metadata": {},
     "output_type": "execute_result"
    }
   ],
   "source": [
    "def linear_search(nums_list, k):\n",
    "    for i in nums_list:\n",
    "        if i == k: return True\n",
    "    return False\n",
    "linear_search([1,2,5,3,6,8,9], 4)"
   ]
  },
  {
   "cell_type": "markdown",
   "id": "be820fcc",
   "metadata": {},
   "source": [
    "### Бинарный поиск O(log N)\n",
    "- массив должен быть отсортирован"
   ]
  },
  {
   "cell_type": "code",
   "execution_count": 35,
   "id": "50867e0c",
   "metadata": {},
   "outputs": [
    {
     "data": {
      "text/plain": [
       "False"
      ]
     },
     "execution_count": 35,
     "metadata": {},
     "output_type": "execute_result"
    }
   ],
   "source": [
    "def binary_search(nums, k):\n",
    "    low = 0\n",
    "    high = len(nums) \n",
    "    while high - low >1:\n",
    "        mid = round((high+low)/2)\n",
    "        if nums[mid] == k: return mid\n",
    "        if nums[mid] < k: low = mid\n",
    "        else:\n",
    "            high = mid\n",
    "    return False\n",
    "binary_search([1,2,3,4,5,6,7,8], 1)"
   ]
  },
  {
   "cell_type": "code",
   "execution_count": null,
   "id": "80dd5e07",
   "metadata": {},
   "outputs": [],
   "source": []
  },
  {
   "cell_type": "code",
   "execution_count": null,
   "id": "5b78e7aa",
   "metadata": {},
   "outputs": [],
   "source": []
  }
 ],
 "metadata": {
  "interpreter": {
   "hash": "c0fbb0ce8cdd535267a1474e8612decf41d6983b57d829546a25a2ccc69369e3"
  },
  "kernelspec": {
   "display_name": "Python 3.9.7 ('base')",
   "language": "python",
   "name": "python3"
  },
  "language_info": {
   "codemirror_mode": {
    "name": "ipython",
    "version": 3
   },
   "file_extension": ".py",
   "mimetype": "text/x-python",
   "name": "python",
   "nbconvert_exporter": "python",
   "pygments_lexer": "ipython3",
   "version": "3.9.7"
  }
 },
 "nbformat": 4,
 "nbformat_minor": 5
}
