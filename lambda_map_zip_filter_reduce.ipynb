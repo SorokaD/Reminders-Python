{
 "cells": [
  {
   "cell_type": "markdown",
   "id": "dc2c8caf",
   "metadata": {},
   "source": [
    "### lambda  \n",
    "lambda __аргументы__ : __операция над аргументами__ , __значения__"
   ]
  },
  {
   "cell_type": "code",
   "execution_count": 7,
   "id": "72eabb72",
   "metadata": {},
   "outputs": [
    {
     "data": {
      "text/plain": [
       "5"
      ]
     },
     "execution_count": 7,
     "metadata": {},
     "output_type": "execute_result"
    }
   ],
   "source": [
    "a,b,c = 1,2,3\n",
    "lambda x,y,z : x*y+z, a,b,c\n",
    "\n",
    "multyply = lambda x,y,z : x*y+z\n",
    "multyply(1,2,3)"
   ]
  },
  {
   "cell_type": "markdown",
   "id": "8378a4d4",
   "metadata": {},
   "source": [
    "### map  \n",
    "принимает два аргумента: функцию и аргумент составного типа данных, например, список. map применяет к каждому элементу списка переданную функцию."
   ]
  },
  {
   "cell_type": "code",
   "execution_count": 9,
   "id": "f29c181f",
   "metadata": {},
   "outputs": [
    {
     "data": {
      "text/plain": [
       "<map at 0x298c8bbb400>"
      ]
     },
     "execution_count": 9,
     "metadata": {},
     "output_type": "execute_result"
    }
   ],
   "source": [
    "a=[1,2,3,4,5,6,7,8]\n",
    "increm = lambda x : x+1\n",
    "# к каждому значению списка будет примененна функция increm\n",
    "map(increm, a)"
   ]
  },
  {
   "cell_type": "code",
   "execution_count": null,
   "id": "50867e0c",
   "metadata": {},
   "outputs": [],
   "source": []
  },
  {
   "cell_type": "code",
   "execution_count": null,
   "id": "80dd5e07",
   "metadata": {},
   "outputs": [],
   "source": []
  },
  {
   "cell_type": "code",
   "execution_count": null,
   "id": "5b78e7aa",
   "metadata": {},
   "outputs": [],
   "source": []
  }
 ],
 "metadata": {
  "kernelspec": {
   "display_name": "Python 3",
   "language": "python",
   "name": "python3"
  },
  "language_info": {
   "codemirror_mode": {
    "name": "ipython",
    "version": 3
   },
   "file_extension": ".py",
   "mimetype": "text/x-python",
   "name": "python",
   "nbconvert_exporter": "python",
   "pygments_lexer": "ipython3",
   "version": "3.9.7"
  }
 },
 "nbformat": 4,
 "nbformat_minor": 5
}
