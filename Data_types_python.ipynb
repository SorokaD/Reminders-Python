{
 "cells": [
  {
   "cell_type": "code",
   "execution_count": 6,
   "id": "72eabb72",
   "metadata": {},
   "outputs": [
    {
     "data": {
      "text/plain": [
       "3.33"
      ]
     },
     "execution_count": 6,
     "metadata": {},
     "output_type": "execute_result"
    }
   ],
   "source": [
    "# Числа int, float\n",
    "x=1.34 # float\n",
    "x=2 # int\n",
    "10%3 # остаток от деления\n",
    "round(10/3,2)"
   ]
  },
  {
   "cell_type": "code",
   "execution_count": 7,
   "id": "f29c181f",
   "metadata": {},
   "outputs": [
    {
     "data": {
      "text/plain": [
       "15"
      ]
     },
     "execution_count": 7,
     "metadata": {},
     "output_type": "execute_result"
    }
   ],
   "source": [
    "# строки string\n",
    "x='abc'\n",
    "x*3 # abcabcabc\n",
    "y='hello world !!!'\n",
    "y[-4::-1] # ' dlrow olleh' [откуда:докуда:шаг]\n",
    "len(y)"
   ]
  },
  {
   "cell_type": "code",
   "execution_count": 20,
   "id": "50867e0c",
   "metadata": {},
   "outputs": [
    {
     "data": {
      "text/plain": [
       "[' ', ' ', '!', '!', 'H', 'HHH', 'd', 'e', 'l', 'l', 'l', 'o', 'o', 'r', 'w']"
      ]
     },
     "execution_count": 20,
     "metadata": {},
     "output_type": "execute_result"
    }
   ],
   "source": [
    "# Списки list\n",
    "list_1 = [10,20,30,40] # создание списка с помощью литерала (Литерал - это выражение, которое создает объект.)\n",
    "list_2 = list('Hello world !!!') # будет список из  символов\n",
    "list_2[-1:-5:-1] # ['!', '!', '!', ' ']\n",
    "list_2.reverse() # поворачивает наоборот\n",
    "list_2[0]='HHH' # меняет нулевой элемент\n",
    "list_of_list=[[1,2],[3,4],[5,6]]\n",
    "list_of_list[1][0] # обрщение к списку списков, выдаст 3\n",
    "sorted(list_2) # сортирует элементы списка по возрастанию и возвращаяет новый список"
   ]
  },
  {
   "cell_type": "code",
   "execution_count": 26,
   "id": "80dd5e07",
   "metadata": {},
   "outputs": [
    {
     "data": {
      "text/plain": [
       "['city', 'country', 'region', 'street']"
      ]
     },
     "execution_count": 26,
     "metadata": {},
     "output_type": "execute_result"
    }
   ],
   "source": [
    "# Словари\n",
    "adres={'country':'RF', 'city':'Tula', 'street':'Tourgenev'}\n",
    "adres['city'] # 'Tula'\n",
    "adres['region'] = 'Tula region' # добавление элемента в список\n",
    "new_dict = {\n",
    "    'a1' : {\n",
    "        'a':'1',\n",
    "        'b':'2',\n",
    "        'c':'3'\n",
    "    },\n",
    "    'a2' : {\n",
    "        'd':'4',\n",
    "        'e':'5',\n",
    "        'f':'6'\n",
    "    }\n",
    "} # словарь словарей или вложенный словарь\n",
    "new_dict['a1']['b'] # вернет '2'\n",
    "sorted(adres) # сортирует ключи словаря повозрастанию и возвращаяет новый список ключей словаря!!!\n",
    "# ['city', 'country', 'region', 'street']"
   ]
  },
  {
   "cell_type": "code",
   "execution_count": 39,
   "id": "5b78e7aa",
   "metadata": {},
   "outputs": [
    {
     "data": {
      "text/plain": [
       "['a', 'b', 'c', 'd', 'f']"
      ]
     },
     "execution_count": 39,
     "metadata": {},
     "output_type": "execute_result"
    }
   ],
   "source": [
    "# Кортежи (неизменяемы)\n",
    "tup=('Hello world', 'and PF', 'and Armenian')\n",
    "lis_t=['a','b','c','d','f']\n",
    "tup_1=tuple(lis_t) # создаст кортэж ('a', 'b', 'c', 'd', 'f')\n",
    "tup_1[0] # обращение по номеру\n",
    "sorted(tup_1) # сортирует элементы кортежа по возрастанию и возвращает новый список с отсортированными элементами\n",
    "# ['a', 'b', 'c', 'd', 'f']"
   ]
  },
  {
   "cell_type": "code",
   "execution_count": 40,
   "id": "c3d10dd4",
   "metadata": {},
   "outputs": [
    {
     "data": {
      "text/plain": [
       "{1, 2, 3, 4, 5, 6, 7, 8, 9}"
      ]
     },
     "execution_count": 40,
     "metadata": {},
     "output_type": "execute_result"
    }
   ],
   "source": [
    "# Множества, тольок уникальные значения\n",
    "x = [9,1,9,2,9,3,4,9,5,9,6,7,8,9]\n",
    "set_x=set(x) # {1, 2, 3, 4, 5, 6, 7, 8, 9}"
   ]
  },
  {
   "cell_type": "code",
   "execution_count": 44,
   "id": "e2a32629",
   "metadata": {},
   "outputs": [
    {
     "name": "stdout",
     "output_type": "stream",
     "text": [
      "['lemon', 'pear', 'watermelon', 'tomato']\n",
      "lemon pear watermelon tomato\n"
     ]
    }
   ],
   "source": [
    "fruits = ['lemon', 'pear', 'watermelon', 'tomato']\n",
    "print(fruits)\n",
    "print(*fruits)"
   ]
  },
  {
   "cell_type": "code",
   "execution_count": 53,
   "id": "012dcb76",
   "metadata": {},
   "outputs": [
    {
     "data": {
      "text/plain": [
       "[]"
      ]
     },
     "execution_count": 53,
     "metadata": {},
     "output_type": "execute_result"
    }
   ],
   "source": [
    "ml=[[]]*3\n",
    "ml[0]"
   ]
  }
 ],
 "metadata": {
  "kernelspec": {
   "display_name": "Python 3",
   "language": "python",
   "name": "python3"
  },
  "language_info": {
   "codemirror_mode": {
    "name": "ipython",
    "version": 3
   },
   "file_extension": ".py",
   "mimetype": "text/x-python",
   "name": "python",
   "nbconvert_exporter": "python",
   "pygments_lexer": "ipython3",
   "version": "3.9.7"
  }
 },
 "nbformat": 4,
 "nbformat_minor": 5
}
